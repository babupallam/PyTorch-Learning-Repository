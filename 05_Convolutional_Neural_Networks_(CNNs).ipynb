{
  "nbformat": 4,
  "nbformat_minor": 0,
  "metadata": {
    "colab": {
      "provenance": [],
      "authorship_tag": "ABX9TyNeI5psNiLdI1nkwYlLA135",
      "include_colab_link": true
    },
    "kernelspec": {
      "name": "python3",
      "display_name": "Python 3"
    },
    "language_info": {
      "name": "python"
    }
  },
  "cells": [
    {
      "cell_type": "markdown",
      "metadata": {
        "id": "view-in-github",
        "colab_type": "text"
      },
      "source": [
        "<a href=\"https://colab.research.google.com/github/babupallam/PyTorch-Learning-Repository/blob/main/05_Convolutional_Neural_Networks_(CNNs).ipynb\" target=\"_parent\"><img src=\"https://colab.research.google.com/assets/colab-badge.svg\" alt=\"Open In Colab\"/></a>"
      ]
    },
    {
      "cell_type": "markdown",
      "source": [],
      "metadata": {
        "id": "42E2pL3y8NyW"
      }
    },
    {
      "cell_type": "markdown",
      "source": [
        "\n",
        "#### **5.1. Introduction to CNNs**\n",
        "- CNNs are designed to process structured grid data, such as images, where the spatial relationships between pixels matter.\n",
        "- They use **convolutional layers**, which apply filters (or kernels) that slide over the input image to detect patterns like edges, textures, or more complex features in deeper layers.\n",
        "- CNNs typically consist of three key types of layers:\n",
        "  1. **Convolutional Layers**: Detect spatial hierarchies in the input.\n",
        "  2. **Pooling Layers**: Reduce the dimensionality of the data while preserving important features.\n",
        "  3. **Fully Connected Layers**: Perform the final classification or regression task.\n",
        "\n",
        "---\n"
      ],
      "metadata": {
        "id": "1No9b3ac8O0n"
      }
    },
    {
      "cell_type": "markdown",
      "source": [
        "\n",
        "#### **5.2. CNN Architecture Components**\n",
        "- **Convolutional Layer (`nn.Conv2d`)**: The core layer in a CNN that applies a set of filters to the input.\n",
        "  - Each filter (kernel) is a small matrix that slides over the input image, detecting patterns such as edges or textures.\n",
        "  - The output of a convolutional layer is a set of **feature maps** that highlight different patterns detected by the filters.\n",
        "  \n",
        "- **Activation Function (`torch.relu`)**: Non-linearity is introduced after the convolutional layer, typically using ReLU (Rectified Linear Unit).\n",
        "  \n",
        "- **Pooling Layer (`nn.MaxPool2d`)**: Pooling layers downsample the input by reducing its size while retaining the most important features.\n",
        "  - **Max pooling** is commonly used, where the maximum value is taken from each region of the input.\n",
        "  \n",
        "- **Fully Connected Layer (`nn.Linear`)**: After several convolutional and pooling layers, the feature maps are flattened and passed through fully connected layers for classification or regression.\n",
        "\n",
        "---\n",
        "\n",
        "**5.2.1. Understanding the Role of Filters (Kernels)**:\n",
        "- Each filter in a convolutional layer detects specific features like edges, corners, or textures.\n",
        "- As we go deeper in the network, the filters detect more complex patterns like shapes, objects, or regions of interest in the image.\n",
        "\n",
        "---\n"
      ],
      "metadata": {
        "id": "EpSpCkJJ8O42"
      }
    },
    {
      "cell_type": "markdown",
      "source": [
        "\n",
        "#### **5.3. Building a Convolutional Neural Network**\n",
        "We will now build a simple CNN architecture for image classification on the CIFAR-10 dataset, which contains 60,000 32x32 color images in 10 classes.\n",
        "\n",
        "---\n",
        "\n",
        "**5.3.1. CIFAR-10 Dataset**\n",
        "- CIFAR-10 is a popular dataset for image classification, with 50,000 training images and 10,000 test images. It contains 10 different categories (airplane, automobile, bird, cat, deer, dog, frog, horse, ship, truck).\n",
        "\n",
        "**Demonstration: CNN Architecture for CIFAR-10 Classification**"
      ],
      "metadata": {
        "id": "uoVblLfT8O8Y"
      }
    },
    {
      "cell_type": "code",
      "source": [
        "import torch\n",
        "import torch.nn as nn  # Import the neural network module from PyTorch for building layers\n",
        "import torch.optim as optim  # Import optimization algorithms like Adam, SGD, etc.\n",
        "import torchvision  # Provides datasets and model architectures for computer vision tasks\n",
        "import torchvision.transforms as transforms  # Tools for transforming and preprocessing data\n",
        "\n",
        "# Define transformations: Convert images to PyTorch tensors and normalize them to a range [-1, 1]\n",
        "# Normalization is done using the mean and standard deviation for each RGB channel\n",
        "transform = transforms.Compose([\n",
        "    transforms.ToTensor(),  # Convert images to tensor format (HWC to CHW and range [0, 1])\n",
        "    transforms.Normalize((0.5, 0.5, 0.5), (0.5, 0.5, 0.5))  # Normalize to [-1, 1] for each channel\n",
        "])\n",
        "\n",
        "# Step 1: Load CIFAR-10 dataset\n",
        "# CIFAR-10 is a dataset of 60,000 32x32 color images across 10 classes\n",
        "# 'train=True' means we are loading the training set\n",
        "train_dataset = torchvision.datasets.CIFAR10(root='./data', train=True, download=True, transform=transform)\n",
        "\n",
        "# 'train=False' means we are loading the test set\n",
        "test_dataset = torchvision.datasets.CIFAR10(root='./data', train=False, download=True, transform=transform)\n",
        "\n",
        "# Step 2: Load the dataset using DataLoader for batching and shuffling\n",
        "# DataLoader batches the data and allows iteration over it efficiently\n",
        "train_loader = torch.utils.data.DataLoader(dataset=train_dataset, batch_size=64, shuffle=True)\n",
        "# For test data, shuffling is not necessary, so shuffle=False\n",
        "test_loader = torch.utils.data.DataLoader(dataset=test_dataset, batch_size=64, shuffle=False)\n",
        "\n",
        "# Step 3: Define a simple CNN architecture\n",
        "class SimpleCNN(nn.Module):\n",
        "    def __init__(self):\n",
        "        super(SimpleCNN, self).__init__()\n",
        "\n",
        "        # First convolutional layer: Input is 3 channels (RGB), output is 16 channels (feature maps)\n",
        "        self.conv1 = nn.Conv2d(in_channels=3, out_channels=16, kernel_size=3, stride=1, padding=1)\n",
        "\n",
        "        # Second convolutional layer: Input is 16 channels, output is 32 channels (feature maps)\n",
        "        self.conv2 = nn.Conv2d(in_channels=16, out_channels=32, kernel_size=3, stride=1, padding=1)\n",
        "\n",
        "        # Max-pooling layer: Reduces the spatial dimension of the feature maps by half (2x2 pooling)\n",
        "        self.pool = nn.MaxPool2d(kernel_size=2, stride=2, padding=0)\n",
        "\n",
        "        # Fully connected layer 1: Input size is 32 channels * 8x8 image after pooling, output is 128 neurons\n",
        "        self.fc1 = nn.Linear(32 * 8 * 8, 128)\n",
        "\n",
        "        # Fully connected layer 2: Final layer with 128 input neurons and 10 output neurons (for 10 classes)\n",
        "        self.fc2 = nn.Linear(128, 10)\n",
        "\n",
        "    # Define the forward pass of the model\n",
        "    def forward(self, x):\n",
        "        # First convolutional layer followed by ReLU activation and max pooling\n",
        "        x = self.pool(torch.relu(self.conv1(x)))  # Output: [batch_size, 16, 16, 16] (after pooling)\n",
        "\n",
        "        # Second convolutional layer followed by ReLU activation and max pooling\n",
        "        x = self.pool(torch.relu(self.conv2(x)))  # Output: [batch_size, 32, 8, 8] (after pooling)\n",
        "\n",
        "        # Flatten the output from the convolutional layers into a vector for the fully connected layer\n",
        "        x = x.view(-1, 32 * 8 * 8)  # Flatten the tensor to [batch_size, 32 * 8 * 8]\n",
        "\n",
        "        # First fully connected layer with ReLU activation\n",
        "        x = torch.relu(self.fc1(x))  # Output: [batch_size, 128]\n",
        "\n",
        "        # Output layer (no activation, as we will use CrossEntropyLoss which applies softmax internally)\n",
        "        x = self.fc2(x)  # Output: [batch_size, 10] (logits for 10 classes)\n",
        "\n",
        "        return x\n",
        "\n",
        "# Step 4: Initialize the model\n",
        "model = SimpleCNN()  # Create an instance of the CNN model\n",
        "\n",
        "# Step 5: Define the loss function and optimizer\n",
        "# CrossEntropyLoss is used for classification tasks (combines softmax and NLLLoss)\n",
        "criterion = nn.CrossEntropyLoss()\n",
        "\n",
        "# Adam optimizer is used with a learning rate of 0.001 to update the model's weights\n",
        "optimizer = optim.Adam(model.parameters(), lr=0.001)\n",
        "\n",
        "# Step 6: Training loop (simplified for demonstration)\n",
        "epochs = 10  # Train the model for 10 epochs\n",
        "for epoch in range(epochs):  # Loop over the entire dataset multiple times\n",
        "    running_loss = 0.0  # Initialize running loss for each epoch\n",
        "\n",
        "    # Loop over mini-batches of data in the training set\n",
        "    for inputs, labels in train_loader:\n",
        "\n",
        "        # Zero the parameter gradients (reset gradients before backpropagation)\n",
        "        optimizer.zero_grad()\n",
        "\n",
        "        # Forward pass: Compute the output of the model for the inputs\n",
        "        outputs = model(inputs)\n",
        "\n",
        "        # Calculate the loss between the model's predictions (outputs) and the actual labels\n",
        "        loss = criterion(outputs, labels)\n",
        "\n",
        "        # Backward pass: Compute the gradients for each parameter (backpropagation)\n",
        "        loss.backward()\n",
        "\n",
        "        # Update the model's weights using the optimizer\n",
        "        optimizer.step()\n",
        "\n",
        "        # Accumulate the loss for reporting\n",
        "        running_loss += loss.item()\n",
        "\n",
        "    # Print the average loss for this epoch\n",
        "    print(f'Epoch [{epoch+1}/{epochs}], Loss: {running_loss/len(train_loader):.4f}')\n",
        "\n",
        "# Print when the training is complete\n",
        "print(\"Training Complete.\")\n"
      ],
      "metadata": {
        "id": "Z40mpYvA8O8d",
        "colab": {
          "base_uri": "https://localhost:8080/"
        },
        "outputId": "65134e3b-9add-409b-e441-e93dc8020f25"
      },
      "execution_count": 1,
      "outputs": [
        {
          "output_type": "stream",
          "name": "stdout",
          "text": [
            "Downloading https://www.cs.toronto.edu/~kriz/cifar-10-python.tar.gz to ./data/cifar-10-python.tar.gz\n"
          ]
        },
        {
          "output_type": "stream",
          "name": "stderr",
          "text": [
            "100%|██████████| 170498071/170498071 [00:02<00:00, 80225313.31it/s]\n"
          ]
        },
        {
          "output_type": "stream",
          "name": "stdout",
          "text": [
            "Extracting ./data/cifar-10-python.tar.gz to ./data\n",
            "Files already downloaded and verified\n",
            "Epoch [1/10], Loss: 1.4399\n",
            "Epoch [2/10], Loss: 1.1123\n",
            "Epoch [3/10], Loss: 0.9560\n",
            "Epoch [4/10], Loss: 0.8511\n",
            "Epoch [5/10], Loss: 0.7738\n",
            "Epoch [6/10], Loss: 0.6955\n",
            "Epoch [7/10], Loss: 0.6303\n",
            "Epoch [8/10], Loss: 0.5740\n",
            "Epoch [9/10], Loss: 0.5165\n",
            "Epoch [10/10], Loss: 0.4564\n",
            "Training Complete.\n"
          ]
        }
      ]
    },
    {
      "cell_type": "markdown",
      "source": [
        "\n",
        "**Explanation**:\n",
        "- **Model Architecture**:\n",
        "  - **Convolutional Layers**:\n",
        "    - `nn.Conv2d(3, 16, kernel_size=3, stride=1, padding=1)` applies 16 filters (3x3 kernels) on the input image (with 3 channels for RGB).\n",
        "    - The second convolution applies 32 filters, detecting more complex patterns.\n",
        "  - **Pooling Layer**: `nn.MaxPool2d(kernel_size=2)` reduces the size of the feature maps by half (downsampling), retaining the most important features.\n",
        "  - **Fully Connected Layers**: After flattening the feature maps, the model passes the data through two fully connected layers, with ReLU activation applied to the first.\n",
        "  \n",
        "- **Training Loop**:\n",
        "  - The model is trained for 10 epochs, and the optimizer updates the weights after each batch.\n",
        "  - The **CrossEntropyLoss** function is used for multi-class classification, computing the difference between the predicted probabilities and the true labels.\n",
        "\n",
        "---\n"
      ],
      "metadata": {
        "id": "_UUUAYUT8O_t"
      }
    },
    {
      "cell_type": "markdown",
      "source": [
        "\n",
        "#### **5.4. Observations on CNN Behavior**\n",
        "- **Convolutional Layers**: Learn hierarchical features from the data. In the earlier layers, the model learns simple patterns like edges, while in deeper layers, it learns more complex structures like shapes or objects.\n",
        "- **Pooling**: Helps reduce the spatial dimensions of the data, making the model computationally efficient while retaining important features.\n",
        "- **Fully Connected Layers**: After the convolutional layers have extracted relevant features, fully connected layers map these features to the final output classes.\n",
        "\n",
        "---\n"
      ],
      "metadata": {
        "id": "9XCqUFJv8PBz"
      }
    },
    {
      "cell_type": "markdown",
      "source": [
        "\n",
        "#### **5.5. Visualizing CNN Filters and Feature Maps**\n",
        "- One of the key advantages of CNNs is their ability to learn filters that capture important patterns in the data. We can visualize the filters learned by the convolutional layers and the feature maps produced by applying these filters.\n",
        "\n",
        "---\n",
        "\n",
        "**5.5.1. Visualizing Filters**\n",
        "- The weights of the filters in a convolutional layer represent the patterns the model is learning. We can visualize the learned filters to get insights into what features the model is focusing on.\n",
        "\n",
        "**Demonstration: Visualizing Filters**"
      ],
      "metadata": {
        "id": "PnxWm2n_8PF2"
      }
    },
    {
      "cell_type": "code",
      "source": [
        "import matplotlib.pyplot as plt  # Import matplotlib for visualization\n",
        "\n",
        "# Step 1: Extract the learned filters (weights) from the first convolutional layer\n",
        "# Access the weight tensor of the first convolutional layer (conv1) and clone it to avoid modifying the original data\n",
        "filters = model.conv1.weight.data.clone()  # 'model.conv1.weight.data' contains the filters/weights learned by the layer\n",
        "\n",
        "# Step 2: Visualize the filters\n",
        "# Create a figure with subplots to display 16 filters from the first convolutional layer (4x4 grid)\n",
        "fig, axs = plt.subplots(4, 4, figsize=(8, 8))  # '4x4' grid of subplots, each for visualizing one filter\n",
        "\n",
        "# Loop through the first 16 filters in the conv1 layer\n",
        "for i in range(16):\n",
        "    # Convert the i-th filter from the format [channels, height, width] to [height, width, channels]\n",
        "    # This is necessary for displaying the filter as an image\n",
        "    filter_img = filters[i].permute(1, 2, 0).numpy()  # 'permute(1, 2, 0)' changes the order of dimensions from [C, H, W] to [H, W, C]\n",
        "\n",
        "    # Display the filter on the i-th subplot (in a 4x4 grid)\n",
        "    axs[i//4, i%4].imshow(filter_img)  # i//4 gives the row, i%4 gives the column in the 4x4 grid\n",
        "    axs[i//4, i%4].axis('off')  # Remove axis ticks for better visualization\n",
        "\n",
        "# Step 3: Show the plot\n",
        "plt.show()  # Display the filters in the figure\n"
      ],
      "metadata": {
        "id": "NJMStppx8PF3",
        "colab": {
          "base_uri": "https://localhost:8080/",
          "height": 931
        },
        "outputId": "2795f284-2a27-4895-f2f1-24a2b5b2637d"
      },
      "execution_count": 2,
      "outputs": [
        {
          "output_type": "stream",
          "name": "stderr",
          "text": [
            "WARNING:matplotlib.image:Clipping input data to the valid range for imshow with RGB data ([0..1] for floats or [0..255] for integers).\n",
            "WARNING:matplotlib.image:Clipping input data to the valid range for imshow with RGB data ([0..1] for floats or [0..255] for integers).\n",
            "WARNING:matplotlib.image:Clipping input data to the valid range for imshow with RGB data ([0..1] for floats or [0..255] for integers).\n",
            "WARNING:matplotlib.image:Clipping input data to the valid range for imshow with RGB data ([0..1] for floats or [0..255] for integers).\n",
            "WARNING:matplotlib.image:Clipping input data to the valid range for imshow with RGB data ([0..1] for floats or [0..255] for integers).\n",
            "WARNING:matplotlib.image:Clipping input data to the valid range for imshow with RGB data ([0..1] for floats or [0..255] for integers).\n",
            "WARNING:matplotlib.image:Clipping input data to the valid range for imshow with RGB data ([0..1] for floats or [0..255] for integers).\n",
            "WARNING:matplotlib.image:Clipping input data to the valid range for imshow with RGB data ([0..1] for floats or [0..255] for integers).\n",
            "WARNING:matplotlib.image:Clipping input data to the valid range for imshow with RGB data ([0..1] for floats or [0..255] for integers).\n",
            "WARNING:matplotlib.image:Clipping input data to the valid range for imshow with RGB data ([0..1] for floats or [0..255] for integers).\n",
            "WARNING:matplotlib.image:Clipping input data to the valid range for imshow with RGB data ([0..1] for floats or [0..255] for integers).\n",
            "WARNING:matplotlib.image:Clipping input data to the valid range for imshow with RGB data ([0..1] for floats or [0..255] for integers).\n",
            "WARNING:matplotlib.image:Clipping input data to the valid range for imshow with RGB data ([0..1] for floats or [0..255] for integers).\n",
            "WARNING:matplotlib.image:Clipping input data to the valid range for imshow with RGB data ([0..1] for floats or [0..255] for integers).\n",
            "WARNING:matplotlib.image:Clipping input data to the valid range for imshow with RGB data ([0..1] for floats or [0..255] for integers).\n",
            "WARNING:matplotlib.image:Clipping input data to the valid range for imshow with RGB data ([0..1] for floats or [0..255] for integers).\n"
          ]
        },
        {
          "output_type": "display_data",
          "data": {
            "text/plain": [
              "<Figure size 800x800 with 16 Axes>"
            ],
            "image/png": "[encoded data removed]"
          },
          "metadata": {}
        }
      ]
    },
    {
      "cell_type": "markdown",
      "source": [
        "\n",
        "**Explanation**:\n",
        "- The learned filters from the first convolutional layer are visualized. These filters represent the patterns (e.g., edges, gradients) that the model has learned to detect in the input images.\n",
        "\n",
        "---\n",
        "\n",
        "**5.5.2. Visualizing Feature Maps**\n",
        "- The feature maps are the result of applying filters to the input image. By visualizing these feature maps, we can understand how the model is processing the input at each convolutional layer.\n",
        "\n",
        "**Demonstration: Visualizing Feature Maps**"
      ],
      "metadata": {
        "id": "ichC1eAi8PJr"
      }
    },
    {
      "cell_type": "code",
      "source": [
        "# Function to visualize feature maps from the first convolutional layer\n",
        "def visualize_feature_maps(model, input_image):\n",
        "    \"\"\"\n",
        "    Visualizes the feature maps produced by the first convolutional layer of the model\n",
        "    for a given input image.\n",
        "\n",
        "    Parameters:\n",
        "    model - The CNN model\n",
        "    input_image - A single image from the dataset (tensor) to pass through the model\n",
        "    \"\"\"\n",
        "    with torch.no_grad():  # Disable gradient calculations (not needed for visualization)\n",
        "        # Forward pass through the first convolutional layer (conv1)\n",
        "        # input_image.unsqueeze(0) adds a batch dimension to the input (needed for model inference)\n",
        "        feature_maps = model.conv1(input_image.unsqueeze(0))\n",
        "\n",
        "    # Step 1: Create a 4x4 grid of subplots to visualize 16 feature maps\n",
        "    fig, axs = plt.subplots(4, 4, figsize=(8, 8))  # 16 feature maps will be visualized in a 4x4 grid\n",
        "\n",
        "    # Step 2: Loop through the first 16 feature maps (since conv1 has 16 output channels)\n",
        "    for i in range(16):\n",
        "        # Extract the i-th feature map for the given input image\n",
        "        feature_map_img = feature_maps[0, i].cpu().numpy()  # Convert feature map tensor to NumPy array for visualization\n",
        "\n",
        "        # Display the feature map on the corresponding subplot\n",
        "        axs[i // 4, i % 4].imshow(feature_map_img, cmap='gray')  # Show the feature map in grayscale\n",
        "        axs[i // 4, i % 4].axis('off')  # Hide axis labels for cleaner visualization\n",
        "\n",
        "    # Step 3: Show the figure with all the feature maps\n",
        "    plt.show()\n",
        "\n",
        "# Step 4: Visualize feature maps for the first image in the dataset\n",
        "# Get a batch of test images from the test_loader\n",
        "example_image, _ = next(iter(test_loader))  # Get one batch of images and labels (ignore labels with _)\n",
        "\n",
        "# Call the function to visualize feature maps of the first image in the batch\n",
        "visualize_feature_maps(model, example_image[0])  # Visualize feature maps for the first image in the batch\n"
      ],
      "metadata": {
        "id": "sAuFtD6i8PJr",
        "colab": {
          "base_uri": "https://localhost:8080/",
          "height": 653
        },
        "outputId": "5900e938-d8ee-4198-a1c5-da845a47098e"
      },
      "execution_count": 3,
      "outputs": [
        {
          "output_type": "display_data",
          "data": {
            "text/plain": [
              "<Figure size 800x800 with 16 Axes>"
            ],
            "image/png": "[encoded data removed]"
          },
          "metadata": {}
        }
      ]
    },
    {
      "cell_type": "markdown",
      "source": [
        "\n",
        "**Explanation**:\n",
        "- This function visualizes the feature maps generated by the first convolutional layer for a given input image. These maps show how different filters are activated by different parts of the input.\n",
        "\n",
        "---\n"
      ],
      "metadata": {
        "id": "c6SBy-6b8PNZ"
      }
    },
    {
      "cell_type": "markdown",
      "source": [
        "\n",
        "#### **5.6. Advanced Techniques in CNNs**\n",
        "- **Batch Normalization**: Normalizes the input to each layer to stabilize and accelerate training. It helps prevent overfitting and allows for the use of higher learning rates.\n",
        "  \n",
        "  ```python\n",
        "  self.bn1 = nn.BatchNorm2d(16)  # Batch normalization after the first convolution\n",
        "  ```\n",
        "\n",
        "- **Dropout**: A regularization technique that randomly drops out a percentage of neurons during training to prevent overfitting.\n",
        "  \n",
        "  ```python\n",
        "  self.dropout = nn.Dropout(p=0.5)  # Dropout with a probability of 50%\n",
        "  ```\n",
        "\n",
        "---\n"
      ],
      "metadata": {
        "id": "oSJ3t8fK8PQ9"
      }
    },
    {
      "cell_type": "markdown",
      "source": [
        "\n",
        "#### **5.7. State-of-the-Art Observations on CNNs**\n",
        "- **ResNet (Residual Networks)**: One of the most influential architectures in CNNs. It introduced **residual connections** (skip connections) that allow gradients to flow through deep networks, addressing the **vanishing gradient problem**.\n",
        "- **EfficientNet**: Recent research has focused on designing CNN architectures that are both efficient and powerful. **EfficientNet** uses a compound scaling method to scale the width, depth, and resolution of the network uniformly.\n",
        "- **Attention Mechanisms**: CNNs are increasingly being combined with **attention mechanisms** to improve performance on tasks requiring context, such as **image captioning** or **visual question answering (VQA)**.\n",
        "\n",
        "---\n"
      ],
      "metadata": {
        "id": "XDY_vYKG8PUt"
      }
    },
    {
      "cell_type": "markdown",
      "source": [
        "\n",
        "### Continuity to the Next Section\n",
        "- In the next section, we will explore **Transfer Learning**, a powerful technique that allows us to leverage pre-trained CNNs on large datasets like ImageNet and fine-tune them for our specific tasks.\n",
        "  \n",
        "This section covered the architecture of CNNs, training on the CIFAR-10 dataset, visualizing learned filters and feature maps, and advanced techniques like batch normalization and dropout. We will now move to transfer learning to build on the knowledge gained in this section."
      ],
      "metadata": {
        "id": "2Ebaielk8PY2"
      }
    }
  ]
}