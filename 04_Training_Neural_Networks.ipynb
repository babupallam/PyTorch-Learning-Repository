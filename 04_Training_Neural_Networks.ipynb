{
  "nbformat": 4,
  "nbformat_minor": 0,
  "metadata": {
    "colab": {
      "provenance": [],
      "authorship_tag": "ABX9TyPREqfitKVGdKUdgV+Shnmt",
      "include_colab_link": true
    },
    "kernelspec": {
      "name": "python3",
      "display_name": "Python 3"
    },
    "language_info": {
      "name": "python"
    }
  },
  "cells": [
    {
      "cell_type": "markdown",
      "metadata": {
        "id": "view-in-github",
        "colab_type": "text"
      },
      "source": [
        "<a href=\"https://colab.research.google.com/github/babupallam/PyTorch-Learning-Repository/blob/main/04_Training_Neural_Networks.ipynb\" target=\"_parent\"><img src=\"https://colab.research.google.com/assets/colab-badge.svg\" alt=\"Open In Colab\"/></a>"
      ]
    },
    {
      "cell_type": "markdown",
      "source": [
        "In this section, we will focus on training neural networks in PyTorch, covering topics like training loops, loss calculation, backpropagation, optimization, and monitoring model performance. Understanding how to structure a proper training loop and optimize your model’s weights is critical to developing an efficient and accurate neural network.\n"
      ],
      "metadata": {
        "id": "V5OseqopFx-P"
      }
    },
    {
      "cell_type": "markdown",
      "source": [
        "\n",
        "#### **4.1. Overview of the Training Process**\n",
        "- **Training a neural network** involves iteratively updating model parameters (weights and biases) using an optimization algorithm like Stochastic Gradient Descent (SGD) to minimize the loss function.\n",
        "- The steps to train a neural network are:\n",
        "  1. **Forward Pass**: Input data is passed through the network to compute predictions.\n",
        "  2. **Loss Calculation**: The loss function computes how far the predicted values are from the actual values.\n",
        "  3. **Backward Pass (Backpropagation)**: Gradients are computed for the model parameters using automatic differentiation.\n",
        "  4. **Optimization**: The optimizer updates the parameters based on the gradients to reduce the loss.\n",
        "\n",
        "---\n"
      ],
      "metadata": {
        "id": "NuCywh_PpHyO"
      }
    },
    {
      "cell_type": "markdown",
      "source": [
        "\n",
        "#### **4.2. Key Components for Training**\n",
        "- **Model**: Defines the neural network structure using `torch.nn.Module`.\n",
        "- **Loss Function**: Measures the error between the predicted and true values. Common loss functions include:\n",
        "  - `nn.MSELoss()` for regression.\n",
        "  - `nn.CrossEntropyLoss()` for classification.\n",
        "- **Optimizer**: Updates the model's parameters based on the computed gradients.\n",
        "  - Common optimizers: `optim.SGD()`, `optim.Adam()`.\n",
        "- **Training Loop**: Iterates over the dataset for a specified number of epochs, performing forward and backward passes, and updating the model’s weights.\n",
        "\n",
        "---\n"
      ],
      "metadata": {
        "id": "42E2pL3y8NyW"
      }
    },
    {
      "cell_type": "markdown",
      "source": [
        "\n",
        "#### **4.3. Full Training Loop Implementation**\n",
        "\n",
        "Let’s walk through the steps of training a neural network in PyTorch, from model initialization to optimizing over multiple epochs.\n",
        "\n",
        "---\n",
        "\n",
        "**4.3.1. Example Neural Network Training on MNIST**\n",
        "\n",
        "In this example, we will build and train a simple feedforward neural network to classify images from the MNIST dataset. The network consists of fully connected layers with ReLU activations and is trained using the Cross-Entropy Loss for multi-class classification.\n",
        "\n",
        "**Demonstration: Full Training Loop on MNIST**"
      ],
      "metadata": {
        "id": "1No9b3ac8O0n"
      }
    },
    {
      "cell_type": "code",
      "source": [
        "import torch\n",
        "import torch.nn as nn\n",
        "import torch.optim as optim\n",
        "import torchvision\n",
        "import torchvision.transforms as transforms\n",
        "\n",
        "# Define a simple neural network with two hidden layers\n",
        "class SimpleNN(nn.Module):\n",
        "    def __init__(self):\n",
        "        super(SimpleNN, self).__init__()\n",
        "        # Input layer: 28x28=784, Hidden layers: 128 and 64 neurons, Output layer: 10 classes (digits 0-9)\n",
        "        self.fc1 = nn.Linear(28*28, 128)  # Fully connected layer 1\n",
        "        self.fc2 = nn.Linear(128, 64)     # Fully connected layer 2\n",
        "        self.fc3 = nn.Linear(64, 10)      # Output layer\n",
        "\n",
        "    def forward(self, x):\n",
        "        # Flatten the input image (28x28 pixels) into a vector of 784 elements\n",
        "        x = x.view(-1, 28*28)  # Flatten the input (28x28 images -> 784 inputs)\n",
        "\n",
        "        # Pass through the first fully connected layer and apply ReLU activation\n",
        "        x = torch.relu(self.fc1(x))  # Apply ReLU to first hidden layer\n",
        "\n",
        "        # Pass through the second fully connected layer and apply ReLU activation\n",
        "        x = torch.relu(self.fc2(x))  # Apply ReLU to second hidden layer\n",
        "\n",
        "        # Pass through the output layer (no activation function here because\n",
        "        # CrossEntropyLoss will apply softmax internally)\n",
        "        x = self.fc3(x)  # No activation at output layer\n",
        "        return x\n",
        "\n",
        "# Define transformations: Convert images to tensors and normalize to [-1, 1] range\n",
        "transform = transforms.Compose([\n",
        "    transforms.ToTensor(),  # Convert PIL images to PyTorch tensors\n",
        "    transforms.Normalize((0.5,), (0.5,))  # Normalize images: mean 0.5, std 0.5 (scale to [-1, 1])\n",
        "])\n",
        "\n",
        "# Load MNIST dataset\n",
        "train_dataset = torchvision.datasets.MNIST(root='./data', train=True, download=True, transform=transform)\n",
        "test_dataset = torchvision.datasets.MNIST(root='./data', train=False, download=True, transform=transform)\n",
        "\n",
        "# Load the dataset into DataLoader for training and testing\n",
        "train_loader = torch.utils.data.DataLoader(dataset=train_dataset, batch_size=64, shuffle=True)\n",
        "test_loader = torch.utils.data.DataLoader(dataset=test_dataset, batch_size=64, shuffle=False)\n",
        "\n",
        "# Initialize the model, loss function, and optimizer\n",
        "model = SimpleNN()  # Initialize the neural network\n",
        "criterion = nn.CrossEntropyLoss()  # Loss function for multi-class classification\n",
        "optimizer = optim.Adam(model.parameters(), lr=0.001)  # Adam optimizer with learning rate 0.001\n",
        "\n",
        "# Training loop\n",
        "epochs = 5  # Number of epochs to train for\n",
        "\n",
        "for epoch in range(epochs):  # Iterate over each epoch\n",
        "    running_loss = 0.0  # Track running loss\n",
        "    for i, (inputs, labels) in enumerate(train_loader):  # Iterate over each batch in the training loader\n",
        "\n",
        "        optimizer.zero_grad()  # Clear the gradients from the previous step\n",
        "\n",
        "        outputs = model(inputs)  # Forward pass: Compute model output for the input data\n",
        "\n",
        "        loss = criterion(outputs, labels)  # Compute the loss based on the model's predictions and actual labels\n",
        "\n",
        "        loss.backward()  # Backward pass: Compute gradients for the model parameters\n",
        "\n",
        "        optimizer.step()  # Update the model's parameters using the computed gradients\n",
        "\n",
        "        running_loss += loss.item()  # Accumulate the loss value for monitoring\n",
        "\n",
        "        # Print the average loss every 100 batches\n",
        "        if (i + 1) % 100 == 0:  # Print the running loss every 100 mini-batches\n",
        "            print(f'Epoch [{epoch+1}/{epochs}], Step [{i+1}/{len(train_loader)}], Loss: {running_loss/100:.4f}')\n",
        "            running_loss = 0.0  # Reset the running loss after each print\n",
        "\n",
        "print(\"Training Complete.\")  # Training process is finished\n"
      ],
      "metadata": {
        "id": "rlqltPd18O0o",
        "colab": {
          "base_uri": "https://localhost:8080/"
        },
        "outputId": "333ec3a6-10e7-454b-e072-7b006b724f80"
      },
      "execution_count": 2,
      "outputs": [
        {
          "output_type": "stream",
          "name": "stdout",
          "text": [
            "Epoch [1/5], Step [100/938], Loss: 1.0164\n",
            "Epoch [1/5], Step [200/938], Loss: 0.4219\n",
            "Epoch [1/5], Step [300/938], Loss: 0.3758\n",
            "Epoch [1/5], Step [400/938], Loss: 0.3530\n",
            "Epoch [1/5], Step [500/938], Loss: 0.3338\n",
            "Epoch [1/5], Step [600/938], Loss: 0.2895\n",
            "Epoch [1/5], Step [700/938], Loss: 0.2672\n",
            "Epoch [1/5], Step [800/938], Loss: 0.2554\n",
            "Epoch [1/5], Step [900/938], Loss: 0.2477\n",
            "Epoch [2/5], Step [100/938], Loss: 0.2198\n",
            "Epoch [2/5], Step [200/938], Loss: 0.2352\n",
            "Epoch [2/5], Step [300/938], Loss: 0.2019\n",
            "Epoch [2/5], Step [400/938], Loss: 0.1816\n",
            "Epoch [2/5], Step [500/938], Loss: 0.2044\n",
            "Epoch [2/5], Step [600/938], Loss: 0.1684\n",
            "Epoch [2/5], Step [700/938], Loss: 0.1843\n",
            "Epoch [2/5], Step [800/938], Loss: 0.1727\n",
            "Epoch [2/5], Step [900/938], Loss: 0.1658\n",
            "Epoch [3/5], Step [100/938], Loss: 0.1577\n",
            "Epoch [3/5], Step [200/938], Loss: 0.1516\n",
            "Epoch [3/5], Step [300/938], Loss: 0.1391\n",
            "Epoch [3/5], Step [400/938], Loss: 0.1354\n",
            "Epoch [3/5], Step [500/938], Loss: 0.1337\n",
            "Epoch [3/5], Step [600/938], Loss: 0.1455\n",
            "Epoch [3/5], Step [700/938], Loss: 0.1443\n",
            "Epoch [3/5], Step [800/938], Loss: 0.1319\n",
            "Epoch [3/5], Step [900/938], Loss: 0.1209\n",
            "Epoch [4/5], Step [100/938], Loss: 0.1114\n",
            "Epoch [4/5], Step [200/938], Loss: 0.1186\n",
            "Epoch [4/5], Step [300/938], Loss: 0.1155\n",
            "Epoch [4/5], Step [400/938], Loss: 0.1156\n",
            "Epoch [4/5], Step [500/938], Loss: 0.1074\n",
            "Epoch [4/5], Step [600/938], Loss: 0.1115\n",
            "Epoch [4/5], Step [700/938], Loss: 0.1165\n",
            "Epoch [4/5], Step [800/938], Loss: 0.1157\n",
            "Epoch [4/5], Step [900/938], Loss: 0.1023\n",
            "Epoch [5/5], Step [100/938], Loss: 0.1055\n",
            "Epoch [5/5], Step [200/938], Loss: 0.0857\n",
            "Epoch [5/5], Step [300/938], Loss: 0.1121\n",
            "Epoch [5/5], Step [400/938], Loss: 0.0944\n",
            "Epoch [5/5], Step [500/938], Loss: 0.0930\n",
            "Epoch [5/5], Step [600/938], Loss: 0.0917\n",
            "Epoch [5/5], Step [700/938], Loss: 0.1001\n",
            "Epoch [5/5], Step [800/938], Loss: 0.0936\n",
            "Epoch [5/5], Step [900/938], Loss: 0.0932\n",
            "Training Complete.\n"
          ]
        }
      ]
    },
    {
      "cell_type": "markdown",
      "source": [
        "\n",
        "##### Explanation of the code:\n",
        "\n",
        "1. **Neural Network Definition**:\n",
        "   - A simple feedforward neural network with two hidden layers (`128` and `64` neurons) and an output layer with `10` neurons (corresponding to the `10` digit classes in MNIST).\n",
        "   - **ReLU** is used as the activation function for the hidden layers, and **CrossEntropyLoss** handles the final output, including applying softmax internally.\n",
        "\n",
        "2. **Data Loading**:\n",
        "   - **MNIST Dataset** is loaded using the `torchvision.datasets.MNIST` class, and images are transformed into tensors and normalized with mean and standard deviation of `0.5`.\n",
        "   - The dataset is split into **training** and **test** sets, and both are loaded using PyTorch’s `DataLoader` to process data in mini-batches.\n",
        "\n",
        "3. **Training Loop**:\n",
        "   - For each **epoch**, the model iterates over mini-batches of size `64` from the training dataset.\n",
        "   - For each mini-batch, the process is:\n",
        "     - **Zero gradients** (resetting gradients from the previous step),\n",
        "     - **Forward pass** to compute predictions,\n",
        "     - **Loss computation** using the `CrossEntropyLoss` function,\n",
        "     - **Backward pass** to calculate gradients,\n",
        "     - **Optimizer step** to update model parameters.\n",
        "   - The loss is printed every `100` mini-batches, and the running loss is reset after each print.\n",
        "\n",
        "4. **Completion**:\n",
        "   - After completing the specified number of epochs, the training process is finished, and the message `\"Training Complete.\"` is printed.\n"
      ],
      "metadata": {
        "id": "EpSpCkJJ8O42"
      }
    },
    {
      "cell_type": "markdown",
      "source": [
        "\n",
        "#### **4.4. Model Evaluation**\n",
        "- After training the model, it’s essential to evaluate its performance on a separate test dataset.\n",
        "- During evaluation, we use the model to make predictions on unseen data and compare the predictions to the actual labels.\n",
        "\n",
        "---\n",
        "\n",
        "\n",
        "\n",
        "**4.4.1. Evaluating the Model’s Accuracy**\n",
        "\n",
        "After training, we evaluate the model on the test set by calculating its accuracy.\n",
        "\n",
        "**Demonstration: Model Evaluation on Test Set**"
      ],
      "metadata": {
        "id": "uoVblLfT8O8Y"
      }
    },
    {
      "cell_type": "code",
      "source": [
        "# Function to calculate accuracy of the model on the test set\n",
        "def evaluate_model(model, test_loader):\n",
        "    model.eval()  # Set model to evaluation mode to turn off dropout, batch normalization, etc.\n",
        "    correct = 0   # Initialize a counter for correct predictions\n",
        "    total = 0     # Initialize a counter for total samples\n",
        "\n",
        "    # Disable gradient calculation during evaluation, as it reduces memory usage and speeds up computations\n",
        "    with torch.no_grad():\n",
        "        for inputs, labels in test_loader:  # Iterate through each batch in the test loader\n",
        "            # Forward pass: Get model's predictions for the inputs\n",
        "            outputs = model(inputs)\n",
        "\n",
        "            # Use torch.max to get the class with the highest score (prediction)\n",
        "            _, predicted = torch.max(outputs.data, 1)  # 'predicted' contains the predicted class labels\n",
        "\n",
        "            # Update the total number of samples processed\n",
        "            total += labels.size(0)  # labels.size(0) gives the batch size (number of samples in this batch)\n",
        "\n",
        "            # Count how many predictions were correct by comparing 'predicted' with the actual labels\n",
        "            correct += (predicted == labels).sum().item()  # .sum().item() gives the number of correct predictions in the batch\n",
        "\n",
        "    # Calculate accuracy as the percentage of correctly classified samples\n",
        "    accuracy = 100 * correct / total  # Accuracy = (correct predictions / total samples) * 100\n",
        "\n",
        "    # Print the accuracy result for the test set\n",
        "    print(f'Accuracy of the model on the test set: {accuracy:.2f}%')\n",
        "\n",
        "# Evaluate the model using the test set DataLoader\n",
        "evaluate_model(model, test_loader)\n"
      ],
      "metadata": {
        "id": "Z40mpYvA8O8d",
        "colab": {
          "base_uri": "https://localhost:8080/"
        },
        "outputId": "c3f9808d-c6c2-4b0c-82e2-397939bc1423"
      },
      "execution_count": 3,
      "outputs": [
        {
          "output_type": "stream",
          "name": "stdout",
          "text": [
            "Accuracy of the model on the test set: 96.22%\n"
          ]
        }
      ]
    },
    {
      "cell_type": "markdown",
      "source": [
        "**Explanation:**\n",
        "\n",
        "- model.eval(): Puts the model in evaluation mode. This disables certain layers like dropout and batch normalization that behave differently during training, ensuring consistent behavior during testing.\n",
        "\n",
        "- torch.no_grad(): Turns off gradient tracking, which saves memory and speeds up the computations since gradients are not needed during evaluation.\n",
        "\n",
        "- torch.max(outputs.data, 1): Gets the predicted class with the highest score (logits) from the model's output. The 1 indicates that the function should find the maximum value along the dimension representing the class scores.\n",
        "\n",
        "- correct += (predicted == labels).sum().item(): Compares the model's predicted labels (predicted) to the actual labels (labels). It counts the number of correct predictions and adds them to the correct variable.\n",
        "\n",
        "- Accuracy Calculation: The accuracy is computed as (correct / total) * 100, representing the percentage of correctly classified samples out of the total number of samples in the test set."
      ],
      "metadata": {
        "id": "_UUUAYUT8O_t"
      }
    },
    {
      "cell_type": "markdown",
      "source": [
        "\n",
        "#### **4.5. Monitoring Training with Metrics**\n",
        "- Monitoring training progress with metrics such as **loss**, **accuracy**, or **precision** and **recall** is important to ensure that the model is learning correctly.\n",
        "- **Training Loss**: If the training loss decreases over time, it generally indicates that the model is learning.\n",
        "- **Validation Loss and Accuracy**: Monitoring these metrics on a validation dataset helps detect **overfitting** (where the model performs well on training data but poorly on unseen data).\n",
        "\n",
        "---\n",
        "\n",
        "**4.5.1. Plotting Loss and Accuracy During Training**\n",
        "\n",
        "Tracking and visualizing the loss and accuracy during training can help understand how well the model is converging.\n",
        "\n",
        "**Demonstration: Plotting Training and Validation Loss**"
      ],
      "metadata": {
        "id": "9XCqUFJv8PBz"
      }
    },
    {
      "cell_type": "code",
      "source": [
        "import matplotlib.pyplot as plt\n",
        "\n",
        "# Variables to store loss values for plotting after training\n",
        "train_loss_history = []  # List to store the average training loss for each epoch\n",
        "val_loss_history = []    # List to store the average validation loss for each epoch\n",
        "\n",
        "for epoch in range(epochs):  # Loop through the specified number of epochs\n",
        "    # Track the running training loss for the current epoch\n",
        "    running_loss = 0.0\n",
        "\n",
        "    model.train()  # Set the model to training mode (enables dropout, batch normalization, etc.)\n",
        "\n",
        "    for inputs, labels in train_loader:  # Iterate over each mini-batch of data in the training DataLoader\n",
        "        optimizer.zero_grad()  # Clear the gradients from the previous step\n",
        "\n",
        "        outputs = model(inputs)  # Forward pass: Get model predictions for the input batch\n",
        "        loss = criterion(outputs, labels)  # Calculate the loss between predictions and actual labels\n",
        "\n",
        "        loss.backward()  # Backward pass: Compute gradients of the loss with respect to model parameters\n",
        "\n",
        "        optimizer.step()  # Update the model parameters based on the computed gradients\n",
        "\n",
        "        running_loss += loss.item()  # Accumulate the loss for this mini-batch to calculate the average later\n",
        "\n",
        "    # Calculate and store the average training loss for the epoch\n",
        "    avg_train_loss = running_loss / len(train_loader)  # Average loss across all mini-batches in the epoch\n",
        "    train_loss_history.append(avg_train_loss)  # Append the average training loss to the history list\n",
        "\n",
        "    # Calculate validation loss after each epoch\n",
        "    model.eval()  # Set the model to evaluation mode (disables dropout, batch normalization, etc.)\n",
        "    val_loss = 0.0  # Initialize the validation loss for this epoch\n",
        "    with torch.no_grad():  # Disable gradient calculation for the validation loop\n",
        "        for inputs, labels in test_loader:  # Iterate over each mini-batch in the validation DataLoader\n",
        "            outputs = model(inputs)  # Get the model's predictions\n",
        "            loss = criterion(outputs, labels)  # Calculate the loss for the validation data\n",
        "            val_loss += loss.item()  # Accumulate validation loss for each mini-batch\n",
        "\n",
        "    avg_val_loss = val_loss / len(test_loader)  # Calculate the average validation loss for the epoch\n",
        "    val_loss_history.append(avg_val_loss)  # Append the average validation loss to the history list\n",
        "\n",
        "    # Print the average training and validation loss for the current epoch\n",
        "    print(f'Epoch [{epoch+1}/{epochs}], Training Loss: {avg_train_loss:.4f}, Validation Loss: {avg_val_loss:.4f}')\n",
        "\n",
        "# Plot training and validation loss over epochs\n",
        "plt.plot(train_loss_history, label='Training Loss')  # Plot training loss history\n",
        "plt.plot(val_loss_history, label='Validation Loss')  # Plot validation loss history\n",
        "plt.xlabel('Epoch')  # Label for x-axis (number of epochs)\n",
        "plt.ylabel('Loss')   # Label for y-axis (loss value)\n",
        "plt.title('Training and Validation Loss over Epochs')  # Plot title\n",
        "plt.legend()  # Display legend to distinguish training and validation loss\n",
        "plt.show()  # Display the plot\n"
      ],
      "metadata": {
        "id": "npyM0Iwd8PBz",
        "colab": {
          "base_uri": "https://localhost:8080/",
          "height": 559
        },
        "outputId": "d4b9e174-5ce7-482b-fe2a-2802a97d3428"
      },
      "execution_count": 4,
      "outputs": [
        {
          "output_type": "stream",
          "name": "stdout",
          "text": [
            "Epoch [1/5], Training Loss: 0.0877, Validation Loss: 0.1037\n",
            "Epoch [2/5], Training Loss: 0.0784, Validation Loss: 0.1089\n",
            "Epoch [3/5], Training Loss: 0.0696, Validation Loss: 0.0961\n",
            "Epoch [4/5], Training Loss: 0.0642, Validation Loss: 0.0854\n",
            "Epoch [5/5], Training Loss: 0.0588, Validation Loss: 0.0892\n"
          ]
        },
        {
          "output_type": "display_data",
          "data": {
            "text/plain": [
              "<Figure size 640x480 with 1 Axes>"
            ],
            "image/png": "[encoded data removed]"
          },
          "metadata": {}
        }
      ]
    },
    {
      "cell_type": "markdown",
      "source": [
        "**Explanation of the output:**\n",
        "  - **Training Loss**: The training loss consistently decreases over the epochs, indicating that the model is learning and improving its ability to fit the training data. This suggests that the optimization process is working well and the model is converging.\n",
        "\n",
        "  - **Validation Loss**: The validation loss initially decreases but begins to increase slightly towards the end. This could be an early sign of **overfitting**, where the model performs well on the training data but starts to struggle to generalize to unseen data (validation set).\n",
        "\n",
        "  - Insights:\n",
        "    - The model is likely starting to overfit after the second or third epoch, as the gap between training loss and validation loss widens slightly, with validation loss even increasing.\n",
        "    - **Potential actions**:\n",
        "      - **Reduce overfitting**: Techniques like regularization (e.g., weight decay), dropout, or early stopping can help mitigate overfitting.\n",
        "      - **Adjust learning rate**: If the model is converging too fast, lowering the learning rate could help find a better minimum and improve generalization.\n"
      ],
      "metadata": {
        "id": "okod3SOnzdsM"
      }
    },
    {
      "cell_type": "markdown",
      "source": [
        "\n",
        "**Explanation of the code:**\n",
        "\n",
        "1. **`train_loss_history` and `val_loss_history`**: These lists are used to store the average training and validation loss values at each epoch, which will be plotted at the end.\n",
        "  \n",
        "2. **Training Loop**:\n",
        "   - For each **epoch**, the model iterates over the mini-batches in the `train_loader`. After every mini-batch:\n",
        "     - The **forward pass** is performed to calculate predictions.\n",
        "     - The **loss** is computed between the predictions and the true labels.\n",
        "     - The **backward pass** computes the gradients of the loss, which are used to update the model’s parameters via the optimizer.\n",
        "\n",
        "3. **Validation Loss**:\n",
        "   - After training for an epoch, the model is switched to **evaluation mode** (`model.eval()`), which disables certain layers like dropout and batch normalization.\n",
        "   - **Gradient calculation is disabled** during evaluation with `torch.no_grad()` to save memory and computation.\n",
        "   - The validation loss is computed for the entire validation dataset, and the average is stored in `val_loss_history`.\n",
        "\n",
        "4. **Plotting**:\n",
        "   - After training, the losses for each epoch are plotted to visualize the **training and validation loss curves**. This helps monitor the model’s performance over time and detect issues like overfitting.\n",
        "\n",
        "By tracking both training and validation loss, you can observe how well the model is learning and generalizing."
      ],
      "metadata": {
        "id": "PnxWm2n_8PF2"
      }
    },
    {
      "cell_type": "markdown",
      "source": [
        "\n",
        "#### **4.6. State-of-the-Art Observations on Training Neural Networks**\n",
        "- **Gradient-Based Optimizers**: Adam, RMSprop, and their variants have become the optimizers of choice in many state-of-the-art deep learning architectures due to their faster convergence and adaptive learning rates. Recent research, such as the **Rectified Adam (RAdam)**, has shown improvements in training stability.\n",
        "  \n",
        "- **Training Stability**: Researchers have observed that training deep neural networks can suffer from **exploding/vanishing gradients**, especially in very deep networks. Techniques like **gradient clipping**, **batch normalization**, and **skip connections** (used in ResNet) help mitigate these problems.\n",
        "\n",
        "- **Learning Rate Scheduling**: Dynamic learning rates using techniques like **learning rate annealing** or **cosine annealing** have improved model convergence in many tasks. Learning rate schedulers adjust the learning rate during training based on the performance, leading to better results.\n",
        "\n",
        "---\n"
      ],
      "metadata": {
        "id": "ichC1eAi8PJr"
      }
    },
    {
      "cell_type": "markdown",
      "source": [
        "\n",
        "### Continuity to the Next Section\n",
        "- In the next section, we will explore **Convolutional Neural Networks (CNNs)**, which are particularly effective for image processing tasks.\n",
        "- We will build CNNs for tasks like image classification and see how they improve performance compared to fully connected networks.\n",
        "\n",
        "This section covered training neural networks in PyTorch, including setting up the training loop, calculating loss, backpropagation, and evaluating model performance. With these basics in place, we are now ready to explore more advanced architectures like Convolutional Neural Networks in the next section."
      ],
      "metadata": {
        "id": "c6SBy-6b8PNZ"
      }
    },
    {
      "cell_type": "markdown",
      "source": [
        "### Observations"
      ],
      "metadata": {
        "id": "zxVetLxDxDMn"
      }
    },
    {
      "cell_type": "markdown",
      "source": [
        "##### **Does backpropagation exist in a simple feedforward neural network?**\n",
        "\n",
        "Yes, backpropagation exists in a simple feedforward neural network (FFNN). It is the primary method used to train feedforward neural networks by adjusting weights and biases to minimize the loss function.\n",
        "\n",
        "#### Steps in a Feedforward Neural Network:\n",
        "1. **Forward Pass**:\n",
        "   - Input data is passed through the network layer by layer to compute the output (prediction).\n",
        "   \n",
        "2. **Loss Calculation**:\n",
        "   - The difference between the network’s predicted output and the true output is calculated using a loss function (e.g., **CrossEntropyLoss**).\n",
        "\n",
        "3. **Backward Pass (Backpropagation)**:\n",
        "   - Backpropagation computes the gradients of the loss function with respect to each weight and bias by applying the chain rule. This process starts from the output layer and propagates back to the input layer.\n",
        "\n",
        "4. **Weight Update**:\n",
        "   - The optimizer uses the computed gradients to adjust the model's weights and biases to minimize the loss.\n",
        "\n",
        "Backpropagation is integral to training a simple feedforward neural network, as it enables the model to learn by updating its weights during training.\n",
        "\n"
      ],
      "metadata": {
        "id": "SvvhO3q3xE5_"
      }
    },
    {
      "cell_type": "markdown",
      "source": [
        "---"
      ],
      "metadata": {
        "id": "WS0RmYzn0WDz"
      }
    },
    {
      "cell_type": "markdown",
      "source": [
        "##### **Is backpropagation mandatory in an MLP (Multilayer Perceptron)?**\n",
        "\n",
        "Yes, **backpropagation is mandatory** in an MLP (Multilayer Perceptron) for efficient training and learning.\n",
        "\n",
        "---"
      ],
      "metadata": {
        "id": "0qot1U2Xz4Su"
      }
    },
    {
      "cell_type": "markdown",
      "source": [
        "\n",
        "##### Why is backpropagation necessary in an MLP?\n",
        "\n",
        "1. **Learning Weights**:\n",
        "   - The main objective of training an MLP is to learn optimal weights and biases that minimize the error between predictions and true labels. Backpropagation provides the gradients needed to adjust these weights.\n",
        "\n",
        "2. **Gradient Descent Optimization**:\n",
        "   - Backpropagation computes the gradients of the loss function with respect to the model’s weights, enabling **gradient descent** or its variants (e.g., **Adam**) to update the parameters.\n",
        "\n",
        "3. **Chain Rule for Gradient Calculation**:\n",
        "   - In an MLP, multiple layers exist between input and output. Backpropagation uses the chain rule to calculate how the error from the output layer influences earlier layers.\n",
        "\n",
        "\n",
        "---"
      ],
      "metadata": {
        "id": "4_SfsYfPz-w3"
      }
    },
    {
      "cell_type": "markdown",
      "source": [
        "\n",
        "##### Can an MLP Learn Without Backpropagation?\n",
        "\n",
        "- No, without backpropagation, an MLP would not know how to adjust its weights based on the loss, making it impossible to learn.\n",
        "\n",
        "- Alternative methods (e.g., genetic algorithms) exist but are computationally inefficient for training MLPs compared to backpropagation.\n",
        "\n",
        "\n",
        "\n",
        "---"
      ],
      "metadata": {
        "id": "sPAhfUO6z-aL"
      }
    }
  ]
}